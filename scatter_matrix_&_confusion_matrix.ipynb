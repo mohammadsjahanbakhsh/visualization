{
  "nbformat": 4,
  "nbformat_minor": 0,
  "metadata": {
    "colab": {
      "private_outputs": true,
      "provenance": [],
      "name": "scatter_matrix & confusion_matrix.ipynb",
      "authorship_tag": "ABX9TyNsxh47YrhqQyy8WqyUsYVd",
      "include_colab_link": true
    },
    "kernelspec": {
      "name": "python3",
      "display_name": "Python 3"
    },
    "language_info": {
      "name": "python"
    }
  },
  "cells": [
    {
      "cell_type": "markdown",
      "metadata": {
        "id": "view-in-github",
        "colab_type": "text"
      },
      "source": [
        "<a href=\"https://colab.research.google.com/github/mohammadsjahanbakhsh/visualization/blob/main/scatter_matrix_%26_confusion_matrix.ipynb\" target=\"_parent\"><img src=\"https://colab.research.google.com/assets/colab-badge.svg\" alt=\"Open In Colab\"/></a>"
      ]
    },
    {
      "cell_type": "code",
      "execution_count": null,
      "metadata": {
        "id": "3bIvzMwo4uLv"
      },
      "outputs": [],
      "source": [
        "import matplotlib.pyplot as plt\n",
        "import pandas as pd\n",
        "\n",
        "iris = pd.read_csv('https://sololearn.com/uploads/files/iris.csv')\n",
        "\n",
        "iris.drop(columns=[\"id\"],axis=1,inplace=True)\n",
        "print(iris.head())"
      ]
    },
    {
      "cell_type": "code",
      "source": [
        "# build a dict mapping species to an integer code\n",
        "inv_name_dict = {'iris-setosa': 0,\n",
        "'iris-versicolor': 1,\n",
        "'iris-virginica': 2}\n",
        "\n",
        "# build integer color code 0/1/2\n",
        "colors = [inv_name_dict[item] for item in iris['species']]\n",
        "# scatter plot\n",
        "scatter = plt.scatter(iris['petal_len'], iris['petal_wd'],c = colors)\n",
        "plt.xlabel('petal length (cm)')\n",
        "plt.ylabel('petal width (cm)')\n",
        "# add legend\n",
        "plt.legend(handles= scatter.legend_elements()[0],\n",
        "labels = inv_name_dict.keys())\n",
        "plt.savefig(\"plot.png\")\n",
        "plt.show()\n"
      ],
      "metadata": {
        "id": "VnLKsymc4xUz"
      },
      "execution_count": null,
      "outputs": []
    },
    {
      "cell_type": "code",
      "source": [
        "import seaborn as sns\n",
        "from pandas.plotting import scatter_matrix\n",
        "%matplotlib inline\n",
        "# plot scatter matrix using pandas and matplotlib\n",
        "scatter_matrix(iris ,figsize=(15,10),grid=True , marker=\"o\" , c=iris['species'].map(inv_name_dict))\n",
        "plt.show()"
      ],
      "metadata": {
        "id": "U7l95YLJ42pE"
      },
      "execution_count": null,
      "outputs": []
    },
    {
      "cell_type": "code",
      "source": [
        "# plot scatter matrix using seaborn\n",
        "sns.set_theme(style=\"ticks\")\n",
        "sns.pairplot(iris, hue='species')\n",
        "plt.show()"
      ],
      "metadata": {
        "id": "h1HDrIci5TYe"
      },
      "execution_count": null,
      "outputs": []
    },
    {
      "cell_type": "markdown",
      "source": [
        "## confusion matrix "
      ],
      "metadata": {
        "id": "JuYj6fQt60uF"
      }
    },
    {
      "cell_type": "code",
      "source": [
        "iris.columns"
      ],
      "metadata": {
        "id": "ybZ8z2L13mii"
      },
      "execution_count": null,
      "outputs": []
    },
    {
      "cell_type": "code",
      "source": [
        "iris.head()"
      ],
      "metadata": {
        "id": "ThTPWiMD3w1H"
      },
      "execution_count": null,
      "outputs": []
    },
    {
      "cell_type": "code",
      "source": [
        "setosa_name=iris.species.value_counts().index[0]\n",
        "setosa_name"
      ],
      "metadata": {
        "id": "DySTX3Tj3fPJ"
      },
      "execution_count": null,
      "outputs": []
    },
    {
      "cell_type": "code",
      "source": [
        "iris2=iris[iris.species!=setosa_name]"
      ],
      "metadata": {
        "id": "o586UCU73fS6"
      },
      "execution_count": null,
      "outputs": []
    },
    {
      "cell_type": "code",
      "source": [],
      "metadata": {
        "id": "l5z6uf9Z5eJm"
      },
      "execution_count": null,
      "outputs": []
    },
    {
      "cell_type": "code",
      "source": [
        "from sklearn.preprocessing import StandardScaler\n",
        "from sklearn.model_selection import train_test_split\n",
        "\n",
        "X , y = iris2.drop(\"species\",axis=1) , iris2.loc[:,'species']\n",
        "\n",
        "\n",
        "\n"
      ],
      "metadata": {
        "id": "lGXoibPp4S8t"
      },
      "execution_count": null,
      "outputs": []
    },
    {
      "cell_type": "code",
      "source": [
        "y.unique()"
      ],
      "metadata": {
        "id": "L3XdfXnL_kUZ"
      },
      "execution_count": null,
      "outputs": []
    },
    {
      "cell_type": "code",
      "source": [
        "class_name=y.unique()\n",
        "y=y==class_name[1]\n",
        "y=y.astype(int)\n",
        "\n",
        "y"
      ],
      "metadata": {
        "id": "um6CMOye5fwH"
      },
      "execution_count": null,
      "outputs": []
    },
    {
      "cell_type": "code",
      "source": [
        "X_train,X_valid,y_train,y_valid=train_test_split(X,y,\n",
        "                                                 stratify=y , test_size=.2 ,\n",
        "                                                 random_state=1 ,shuffle = True\n",
        "                                                 )"
      ],
      "metadata": {
        "id": "K07PfsGf6MWh"
      },
      "execution_count": null,
      "outputs": []
    },
    {
      "cell_type": "code",
      "source": [
        "scaler = StandardScaler()\n",
        "X_train = scaler.fit_transform(X_train)\n",
        "X_valid = scaler.transform(X_valid)\n"
      ],
      "metadata": {
        "id": "UuTuGed_69ae"
      },
      "execution_count": null,
      "outputs": []
    },
    {
      "cell_type": "code",
      "source": [
        "from sklearn.neighbors import KNeighborsClassifier\n",
        "from sklearn.metrics import f1_score,confusion_matrix"
      ],
      "metadata": {
        "id": "q1f4Q0H67Yxs"
      },
      "execution_count": null,
      "outputs": []
    },
    {
      "cell_type": "code",
      "source": [
        "knn = KNeighborsClassifier(n_neighbors=5)\n",
        "knn.fit(X_train,y_train)\n",
        "y_pred = knn.predict(X_valid)\n",
        "\n",
        "f1_score(y_valid,y_pred)"
      ],
      "metadata": {
        "id": "Cd9vj8Qt7WLf"
      },
      "execution_count": null,
      "outputs": []
    },
    {
      "cell_type": "code",
      "source": [
        "cf_matrix = confusion_matrix(y_valid,y_pred)\n",
        "print(cf_matrix)"
      ],
      "metadata": {
        "id": "wYyZwmOY8HI7"
      },
      "execution_count": null,
      "outputs": []
    },
    {
      "cell_type": "code",
      "source": [
        "import seaborn as sns\n",
        "sns.heatmap(cf_matrix , annot=True)"
      ],
      "metadata": {
        "id": "yiWHhItN8X7Z"
      },
      "execution_count": null,
      "outputs": []
    },
    {
      "cell_type": "code",
      "source": [],
      "metadata": {
        "id": "LbmpUmxr8wPY"
      },
      "execution_count": null,
      "outputs": []
    },
    {
      "cell_type": "code",
      "source": [
        "import numpy as np\n",
        "sns.heatmap(cf_matrix/np.sum(cf_matrix), annot=True ,fmt='.2%', cmap='Blues')"
      ],
      "metadata": {
        "id": "EVJhRRCE8nz3"
      },
      "execution_count": null,
      "outputs": []
    },
    {
      "cell_type": "code",
      "source": [
        "labels = ['True Neg','False Pos','False Neg','True Pos']\n",
        "labels = np.asarray(labels).reshape(2,2)\n",
        "sns.heatmap(cf_matrix, annot=labels, fmt='' ,cmap='Blues')"
      ],
      "metadata": {
        "id": "Z4v3c7Lo8-se"
      },
      "execution_count": null,
      "outputs": []
    }
  ]
}