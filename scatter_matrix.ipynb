{
  "nbformat": 4,
  "nbformat_minor": 0,
  "metadata": {
    "colab": {
      "private_outputs": true,
      "provenance": []
    },
    "kernelspec": {
      "name": "python3",
      "display_name": "Python 3"
    },
    "language_info": {
      "name": "python"
    }
  },
  "cells": [
    {
      "cell_type": "code",
      "execution_count": null,
      "metadata": {
        "id": "3bIvzMwo4uLv"
      },
      "outputs": [],
      "source": [
        "import matplotlib.pyplot as plt\n",
        "import pandas as pd\n",
        "\n",
        "iris = pd.read_csv('https://sololearn.com/uploads/files/iris.csv')\n",
        "\n",
        "iris.drop(columns=[\"id\"],axis=1,inplace=True)\n",
        "print(iris.head())"
      ]
    },
    {
      "cell_type": "code",
      "source": [
        "# build a dict mapping species to an integer code\n",
        "inv_name_dict = {'iris-setosa': 0,\n",
        "'iris-versicolor': 1,\n",
        "'iris-virginica': 2}\n",
        "\n",
        "# build integer color code 0/1/2\n",
        "colors = [inv_name_dict[item] for item in iris['species']]\n",
        "# scatter plot\n",
        "scatter = plt.scatter(iris['petal_len'], iris['petal_wd'],c = colors)\n",
        "plt.xlabel('petal length (cm)')\n",
        "plt.ylabel('petal width (cm)')\n",
        "# add legend\n",
        "plt.legend(handles= scatter.legend_elements()[0],\n",
        "labels = inv_name_dict.keys())\n",
        "plt.savefig(\"plot.png\")\n",
        "plt.show()\n"
      ],
      "metadata": {
        "id": "VnLKsymc4xUz"
      },
      "execution_count": null,
      "outputs": []
    },
    {
      "cell_type": "code",
      "source": [
        "import seaborn as sns\n",
        "from pandas.plotting import scatter_matrix\n",
        "%matplotlib inline\n",
        "# plot scatter matrix using pandas and matplotlib\n",
        "scatter_matrix(iris ,figsize=(15,10),grid=True , marker=\"o\" , c=iris['species'].map(inv_name_dict))\n",
        "plt.show()"
      ],
      "metadata": {
        "id": "U7l95YLJ42pE"
      },
      "execution_count": null,
      "outputs": []
    },
    {
      "cell_type": "code",
      "source": [
        "# plot scatter matrix using seaborn\n",
        "sns.set_theme(style=\"ticks\")\n",
        "sns.pairplot(iris, hue='species')\n",
        "plt.show()"
      ],
      "metadata": {
        "id": "h1HDrIci5TYe"
      },
      "execution_count": null,
      "outputs": []
    },
    {
      "cell_type": "code",
      "source": [],
      "metadata": {
        "id": "JuYj6fQt60uF"
      },
      "execution_count": null,
      "outputs": []
    }
  ]
}